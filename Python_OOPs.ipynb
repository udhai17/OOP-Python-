{
 "cells": [
  {
   "cell_type": "markdown",
   "metadata": {},
   "source": [
    "### Notes for Object Oriented Programming\n",
    " In python everything is termed as an object.\n",
    " Eg. when we define the age and name of the person we use INT and STR objects.\n",
    " CLASS: Class is the constructs that defines the objects which includes INT,STR,LIST.\n",
    " ATTRIBUTES: can be defined as the properties of the class.It is also used to define it. \n",
    "            When we hold an list which is an object lis = [1,2,5,2,4], lis has any attributes like apppend, pop, copy etc.\n",
    " Methods: These are functions that are associated to a particular classes.  \n",
    " Members: Anything that is defined inside the class is Members.\n",
    " \n",
    " Python uses dot syntax to access the members of a class or an instance."
   ]
  },
  {
   "cell_type": "code",
   "execution_count": 95,
   "metadata": {},
   "outputs": [],
   "source": [
    "import numpy as np\n"
   ]
  },
  {
   "cell_type": "code",
   "execution_count": 96,
   "metadata": {
    "scrolled": true
   },
   "outputs": [
    {
     "data": {
      "text/plain": [
       "<__main__.Thief at 0x20467a384a8>"
      ]
     },
     "execution_count": 96,
     "metadata": {},
     "output_type": "execute_result"
    }
   ],
   "source": [
    "### Creating a class\n",
    "class Thief():\n",
    "    sneaky = True # we have created an attribute named sneaky\n",
    "\n",
    "Thief()"
   ]
  },
  {
   "cell_type": "code",
   "execution_count": 97,
   "metadata": {},
   "outputs": [
    {
     "data": {
      "text/plain": [
       "<__main__.Thief at 0x20467a93ba8>"
      ]
     },
     "execution_count": 97,
     "metadata": {},
     "output_type": "execute_result"
    }
   ],
   "source": [
    "### Creating an instance\n",
    "kenneth = Thief()\n",
    "kenneth"
   ]
  },
  {
   "cell_type": "code",
   "execution_count": 98,
   "metadata": {},
   "outputs": [],
   "source": [
    "### Defining an attribute\n",
    "class Thief():\n",
    "    sneaky = True\n",
    "    kenneth = Thief()  ## Creating an instance.. this instance can have access to the attributes created in the class Thief"
   ]
  },
  {
   "cell_type": "code",
   "execution_count": 99,
   "metadata": {},
   "outputs": [
    {
     "data": {
      "text/plain": [
       "True"
      ]
     },
     "execution_count": 99,
     "metadata": {},
     "output_type": "execute_result"
    }
   ],
   "source": [
    "kenneth.sneaky   ## We have called the attribute on the instance that we created"
   ]
  },
  {
   "cell_type": "code",
   "execution_count": 100,
   "metadata": {},
   "outputs": [],
   "source": [
    "### We can delete the instances defined in the class using del\n",
    "del kenneth"
   ]
  },
  {
   "cell_type": "code",
   "execution_count": 101,
   "metadata": {},
   "outputs": [
    {
     "ename": "NameError",
     "evalue": "name 'kenneth' is not defined",
     "output_type": "error",
     "traceback": [
      "\u001b[1;31m---------------------------------------------------------------------------\u001b[0m",
      "\u001b[1;31mNameError\u001b[0m                                 Traceback (most recent call last)",
      "\u001b[1;32m<ipython-input-101-6911f8f69766>\u001b[0m in \u001b[0;36m<module>\u001b[1;34m()\u001b[0m\n\u001b[1;32m----> 1\u001b[1;33m \u001b[0mkenneth\u001b[0m\u001b[1;33m\u001b[0m\u001b[0m\n\u001b[0m",
      "\u001b[1;31mNameError\u001b[0m: name 'kenneth' is not defined"
     ]
    }
   ],
   "source": [
    "kenneth"
   ]
  },
  {
   "cell_type": "markdown",
   "metadata": {},
   "source": [
    "### Notes about Methods\n",
    "Methods are the functions of the classes.\n",
    "They are used by the instances of the class and not by the classes itself. Because of this methods always take atleast one parameter (SELF) as the argument which represents the instance that is using the method.\n",
    "SELF always considers the latest instance that it faces.\n",
    "\n"
   ]
  },
  {
   "cell_type": "code",
   "execution_count": null,
   "metadata": {},
   "outputs": [],
   "source": [
    "### Creating a methods\n",
    "class Thief():\n",
    "    sneaky = True\n",
    "    \n",
    "    def pickpocket(self):\n",
    "        print(\"called by {}\".format(self))\n",
    "        return(np.random.randint(0,1))\n",
    "    \n",
    "kenneth =Thief()"
   ]
  },
  {
   "cell_type": "code",
   "execution_count": null,
   "metadata": {},
   "outputs": [],
   "source": [
    "kenneth.pickpocket()"
   ]
  },
  {
   "cell_type": "code",
   "execution_count": null,
   "metadata": {},
   "outputs": [],
   "source": [
    "### We can achieve the above outcome alternatively\n",
    "Thief.pickpocket(kenneth)  # class calls the function on the instance"
   ]
  },
  {
   "cell_type": "code",
   "execution_count": null,
   "metadata": {},
   "outputs": [],
   "source": [
    "### \n",
    "\n",
    "class Thief():\n",
    "    sneaky =True\n",
    "    \n",
    "    def pickpocket(self):\n",
    "        if self.sneaky is True:  # always use self.\n",
    "            print(\"Very Sneaky\")"
   ]
  },
  {
   "cell_type": "code",
   "execution_count": null,
   "metadata": {},
   "outputs": [],
   "source": [
    "kenneth = Thief()"
   ]
  },
  {
   "cell_type": "code",
   "execution_count": null,
   "metadata": {},
   "outputs": [],
   "source": [
    "Thief.pickpocket(kenneth)"
   ]
  },
  {
   "cell_type": "code",
   "execution_count": 1,
   "metadata": {},
   "outputs": [],
   "source": [
    "### Adding arrguments to the Methods (self has to be present by default arg)\n",
    "\n",
    "class Thief():\n",
    "    sneaky = True\n",
    "    \n",
    "    def pickpocket(self):\n",
    "        if self.sneaky is True:\n",
    "            print('Very sneaky')\n",
    "    def hide(self,light_level):\n",
    "        return self.sneaky and  light_level < 10\n"
   ]
  },
  {
   "cell_type": "code",
   "execution_count": 2,
   "metadata": {},
   "outputs": [],
   "source": [
    "kenneth = Thief()"
   ]
  },
  {
   "cell_type": "code",
   "execution_count": 3,
   "metadata": {},
   "outputs": [
    {
     "data": {
      "text/plain": [
       "True"
      ]
     },
     "execution_count": 3,
     "metadata": {},
     "output_type": "execute_result"
    }
   ],
   "source": [
    "Thief.hide(kenneth,9)"
   ]
  },
  {
   "cell_type": "code",
   "execution_count": null,
   "metadata": {},
   "outputs": [],
   "source": [
    "kenneth.hide(5)"
   ]
  },
  {
   "cell_type": "code",
   "execution_count": 4,
   "metadata": {},
   "outputs": [
    {
     "data": {
      "text/plain": [
       "False"
      ]
     },
     "execution_count": 4,
     "metadata": {},
     "output_type": "execute_result"
    }
   ],
   "source": [
    "kenneth.sneaky = False  ## self always considers the latest instance/attritbute\n",
    "kenneth.hide(4) # here sneaky gets to False"
   ]
  },
  {
   "cell_type": "markdown",
   "metadata": {},
   "source": [
    "### Creating a new instance of a class\n",
    "When we create a new instance of a class, python looks for a method named __init__.\n",
    "This method lets us control how the classes are created or initialized.\n",
    "**kwargs is a dictionary full of key value pairs.\n"
   ]
  },
  {
   "cell_type": "code",
   "execution_count": 23,
   "metadata": {},
   "outputs": [],
   "source": [
    "class Thief():\n",
    "    def __init__(self, name,sneaky = True, **kwargs): # sneaky is True by default we can change while creating instances\n",
    "        self.name = name\n",
    "        self.sneaky = sneaky\n",
    "        \n",
    "        for key,value in kwargs.items():\n",
    "            setattr(self,key,value) ## setattr are useful when we don know the name of attribute we are going to create\n",
    "    \n",
    "    def pickpocket(self):\n",
    "        return self.sneaky and bool(np.random.randint(0,1))\n",
    "    def hide(self,light_level):\n",
    "        return self.sneaky and light_level<10"
   ]
  },
  {
   "cell_type": "code",
   "execution_count": 24,
   "metadata": {},
   "outputs": [
    {
     "name": "stdout",
     "output_type": "stream",
     "text": [
      "False\n",
      "Kennet\n",
      "False\n"
     ]
    }
   ],
   "source": [
    "# Creating new instances\n",
    "kenneth = Thief('Kennet',False)\n",
    "print(kenneth.hide(10))\n",
    "print(kenneth.name)\n",
    "print(kenneth.sneaky)\n"
   ]
  },
  {
   "cell_type": "code",
   "execution_count": 25,
   "metadata": {},
   "outputs": [],
   "source": [
    "seth = Thief('Seth', True)"
   ]
  },
  {
   "cell_type": "code",
   "execution_count": 26,
   "metadata": {},
   "outputs": [
    {
     "data": {
      "text/plain": [
       "'Seth'"
      ]
     },
     "execution_count": 26,
     "metadata": {},
     "output_type": "execute_result"
    }
   ],
   "source": [
    "seth.name"
   ]
  },
  {
   "cell_type": "code",
   "execution_count": 27,
   "metadata": {},
   "outputs": [],
   "source": [
    "### Adding new attributes\n",
    "spike = Thief('Spiky',False,scars = 'None',tactics = 'wits')"
   ]
  },
  {
   "cell_type": "code",
   "execution_count": 28,
   "metadata": {},
   "outputs": [
    {
     "data": {
      "text/plain": [
       "'None'"
      ]
     },
     "execution_count": 28,
     "metadata": {},
     "output_type": "execute_result"
    }
   ],
   "source": [
    "spike.scars"
   ]
  },
  {
   "cell_type": "markdown",
   "metadata": {},
   "source": [
    "### Inheritance\n",
    "It is the process of giving the child or subclass the ability of the parent class. It reduces the amount of repeatable codes written. \n",
    "    SUPER: Super use the codes from the super class on demand for the subclasses."
   ]
  },
  {
   "cell_type": "code",
   "execution_count": 20,
   "metadata": {},
   "outputs": [],
   "source": [
    "class character(): # This will be the parent class\n",
    "    def __init__(self,name,**kwargs):\n",
    "        self.name = name\n",
    "        \n",
    "        for key,value in kwargs.items():\n",
    "            setattr(self,key,value)\n",
    "\n",
    "class Thief(character):  # we are making the Thief class to inherit the character class\n",
    "    sneaky = True\n",
    "#     def __init__(self, name,sneaky = True, **kwargs): # sneaky is True by default we can change while creating instances\n",
    "#         self.name = name\n",
    "#         self.sneaky = sneaky\n",
    "        \n",
    "#         for key,value in kwargs.items():\n",
    "#             setattr(self,key,value) ## setattr are useful when we don know the name of attribute we are going to create\n",
    "    \n",
    "    def pickpocket(self):\n",
    "        return self.sneaky and bool(np.random.randint(0,1))\n",
    "    def hide(self,light_level):\n",
    "        return self.sneaky and light_level<10"
   ]
  },
  {
   "cell_type": "code",
   "execution_count": 21,
   "metadata": {},
   "outputs": [
    {
     "data": {
      "text/plain": [
       "<__main__.Thief at 0x288f2b852e8>"
      ]
     },
     "execution_count": 21,
     "metadata": {},
     "output_type": "execute_result"
    }
   ],
   "source": [
    "kenn = Thief('kenn')\n",
    "kenn"
   ]
  },
  {
   "cell_type": "code",
   "execution_count": 22,
   "metadata": {},
   "outputs": [
    {
     "data": {
      "text/plain": [
       "False"
      ]
     },
     "execution_count": 22,
     "metadata": {},
     "output_type": "execute_result"
    }
   ],
   "source": [
    "kenn.hide(12)"
   ]
  },
  {
   "cell_type": "markdown",
   "metadata": {},
   "source": [
    "### Super class\n",
    "It helps to use the codes in the super class anywhere in the program.\n",
    "Suppose we want to re-write few attributes of the parent class , we use the super function.\n",
    "we can use the init func again in the subclass. super basically is used to overwrite wat is set by the super class.\n",
    "Subclasses need not necessarily take the same argument as that of the parent class. It can take other arguments too."
   ]
  },
  {
   "cell_type": "code",
   "execution_count": null,
   "metadata": {},
   "outputs": [],
   "source": [
    "class character(): \n",
    "    def __init__(self,name,**kwargs):\n",
    "        self.name = name\n",
    "        \n",
    "        for key,value in kwargs.items():\n",
    "            setattr(self,key,value)\n",
    "\n",
    "class Thief(character):  \n",
    "    def __init__(self,name,sneaky = True,**kwargs): # subclass initialization\n",
    "        super().__init__(name,*kwargs) # we calling the  super class func\n",
    "        self.sneaky = sneaky \n",
    "\n",
    "    def pickpocket(self):\n",
    "        return self.sneaky and bool(np.random.randint(0,1))\n",
    "    def hide(self,light_level):\n",
    "        return self.sneaky and light_level<10"
   ]
  }
 ],
 "metadata": {
  "kernelspec": {
   "display_name": "Python 3",
   "language": "python",
   "name": "python3"
  },
  "language_info": {
   "codemirror_mode": {
    "name": "ipython",
    "version": 3
   },
   "file_extension": ".py",
   "mimetype": "text/x-python",
   "name": "python",
   "nbconvert_exporter": "python",
   "pygments_lexer": "ipython3",
   "version": "3.6.3"
  }
 },
 "nbformat": 4,
 "nbformat_minor": 2
}
